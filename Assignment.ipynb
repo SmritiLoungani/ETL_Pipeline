{
 "cells": [
  {
   "cell_type": "markdown",
   "id": "0dd493fe-66f5-462d-a4b2-2e2ff86c100a",
   "metadata": {},
   "source": [
    "## Task1"
   ]
  },
  {
   "cell_type": "code",
   "execution_count": 3,
   "id": "b3d34bc2-e285-488e-b8b4-a6db552463f2",
   "metadata": {},
   "outputs": [
    {
     "name": "stdin",
     "output_type": "stream",
     "text": [
      "Please input number of units sold for Category A 150\n",
      "Please input number of units sold for Category B 200\n"
     ]
    },
    {
     "name": "stdout",
     "output_type": "stream",
     "text": [
      "The Total Units Sold 350 \n",
      "Difference Between Categories -50 \n",
      "Ratio of Category A and Category B 0.75\n"
     ]
    }
   ],
   "source": [
    "A=int(input('Please input number of units sold for Category A'))\n",
    "B=int(input('Please input number of units sold for Category B'))\n",
    "Add=A+B\n",
    "Diff=A-B\n",
    "Ratio=A/B\n",
    "print(\"The Total Units Sold\",Add,\"\\nDifference Between Categories\",Diff,\"\\nRatio of Category A and Category B\", Ratio) "
   ]
  },
  {
   "cell_type": "markdown",
   "id": "06ed98d3-d8d0-48de-b575-7429db110115",
   "metadata": {},
   "source": [
    "## Task2"
   ]
  },
  {
   "cell_type": "code",
   "execution_count": 29,
   "id": "4cf74222-e2c9-4501-a32f-7fe40cbcca82",
   "metadata": {},
   "outputs": [
    {
     "name": "stdin",
     "output_type": "stream",
     "text": [
      "Hi, we are here from HeroVired \n",
      "Please let us know your first name smriti\n",
      "Last Name loungani\n",
      "Age 25\n"
     ]
    },
    {
     "name": "stdout",
     "output_type": "stream",
     "text": [
      "Dear smriti , you're eligible for our premium loyalty programm.\n"
     ]
    },
    {
     "name": "stdin",
     "output_type": "stream",
     "text": [
      "\n",
      "Quickly click say yes to avail it. yes\n"
     ]
    },
    {
     "name": "stdout",
     "output_type": "stream",
     "text": [
      "You entered ‘yes’,\n",
      "Thank you for sharing your inputs, one of our team member will soon contact you\n"
     ]
    }
   ],
   "source": [
    "FirstName=input('Hi, we are here from HeroVired \\nPlease let us know your first name')\n",
    "LastName=input('Last Name')\n",
    "Age=input('Age')\n",
    "print('Dear',FirstName,',',\"you're eligible for our premium loyalty programm.\")\n",
    "answer=input('\\nQuickly click say yes to avail it.')\n",
    "if answer==\"yes\":\n",
    "    print('You entered ‘yes’,\\nThank you for sharing your inputs, one of our team member will soon contact you')\n",
    "elif answer==\"no\":\n",
    "    print('You entered ‘no’,\\nif you change your mind later we are just one click away')\n",
    "else:\n",
    "    print('Invalid input. Please enter \"yes\" or \"no\".')"
   ]
  },
  {
   "cell_type": "markdown",
   "id": "5d368b0d-6414-4067-b65a-01b3de5b5f7f",
   "metadata": {},
   "source": [
    "## Task3: Product List Management"
   ]
  },
  {
   "cell_type": "code",
   "execution_count": 24,
   "id": "4e758933-3c2b-4a59-9aba-f08e3a59037f",
   "metadata": {},
   "outputs": [
    {
     "name": "stdin",
     "output_type": "stream",
     "text": [
      "Please share the product prices 10 20 30\n"
     ]
    },
    {
     "name": "stdout",
     "output_type": "stream",
     "text": [
      "Product list: [10, 20, 30]\n"
     ]
    }
   ],
   "source": [
    "PP=list(map(int,input('Please share the product prices').split()))\n",
    "print(\"Product list:\",PP)"
   ]
  },
  {
   "cell_type": "code",
   "execution_count": 28,
   "id": "cc425070-2e00-464a-a56a-6fc236109aa9",
   "metadata": {},
   "outputs": [],
   "source": [
    "PP.append(250)"
   ]
  },
  {
   "cell_type": "code",
   "execution_count": 30,
   "id": "18c08cb1-42bb-43f7-b9ee-c12ade79f342",
   "metadata": {},
   "outputs": [
    {
     "name": "stdout",
     "output_type": "stream",
     "text": [
      "[10, 20, 30, 250, 250]\n"
     ]
    }
   ],
   "source": [
    "print(PP)"
   ]
  },
  {
   "cell_type": "code",
   "execution_count": 40,
   "id": "a7ec2447-e20f-43ef-9a6f-257df3a5dec1",
   "metadata": {},
   "outputs": [
    {
     "name": "stdout",
     "output_type": "stream",
     "text": [
      "250\n"
     ]
    }
   ],
   "source": [
    "from functools import reduce\n",
    "largest=reduce(lambda x,y:x if x>y else y,PP)\n",
    "print(largest)"
   ]
  },
  {
   "cell_type": "code",
   "execution_count": 42,
   "id": "14a29d49-88ad-4d64-b9a3-ddc8d98c97f4",
   "metadata": {},
   "outputs": [
    {
     "name": "stdout",
     "output_type": "stream",
     "text": [
      "10\n"
     ]
    }
   ],
   "source": [
    "smallest=reduce(lambda x,y:x if x<y else y,PP)\n",
    "print(smallest)"
   ]
  },
  {
   "cell_type": "code",
   "execution_count": 54,
   "id": "9859e0f1-205c-4a26-ac26-699218244014",
   "metadata": {},
   "outputs": [],
   "source": [
    "PP.remove(largest)"
   ]
  },
  {
   "cell_type": "code",
   "execution_count": 50,
   "id": "4229943a-b6a8-4116-935a-877f2c708224",
   "metadata": {},
   "outputs": [
    {
     "name": "stdout",
     "output_type": "stream",
     "text": [
      "[10, 20, 30, 250]\n"
     ]
    }
   ],
   "source": [
    "print(PP)"
   ]
  },
  {
   "cell_type": "code",
   "execution_count": 56,
   "id": "f1486c18-9437-4df6-b55a-887f870e2b57",
   "metadata": {},
   "outputs": [
    {
     "name": "stdout",
     "output_type": "stream",
     "text": [
      "[20, 30]\n"
     ]
    }
   ],
   "source": [
    "PP.remove(smallest)\n",
    "print(PP)"
   ]
  },
  {
   "cell_type": "markdown",
   "id": "ab04bfbc-db6b-4845-b1ae-a2fd9ee6b81c",
   "metadata": {},
   "source": [
    "## Task4:Inventory Lookup"
   ]
  },
  {
   "cell_type": "code",
   "execution_count": 1,
   "id": "30a88bf1-a442-4c06-a16b-8efb9255e01c",
   "metadata": {},
   "outputs": [],
   "source": [
    "data_dict={\"product_name\": \"Wireless Mouse\",\"SKU\": \"WM-12345\",\"price\": 25.99,\"category\": \"Electronics\"}\n",
    "def display_data_dict(product):\n",
    "    print(f\"Product Name: {product['product_name']}\\t\\tProduct SKU: {product['SKU']}\")\n",
    "    display_data_dict(product)"
   ]
  },
  {
   "cell_type": "raw",
   "id": "8e272fba-aab1-46e1-857f-60e4e5a01cb5",
   "metadata": {},
   "source": [
    "##Task 5: Stock Level Alert System"
   ]
  },
  {
   "cell_type": "code",
   "execution_count": 3,
   "id": "e1f9de45-df11-495f-be8a-27ec076f1c26",
   "metadata": {},
   "outputs": [
    {
     "name": "stdin",
     "output_type": "stream",
     "text": [
      "Enter stock level: 50\n"
     ]
    },
    {
     "name": "stdout",
     "output_type": "stream",
     "text": [
      "Stock is sufficient\n"
     ]
    }
   ],
   "source": [
    "stock_level=int(input(\"Enter stock level:\"))\n",
    "threshold=20\n",
    "if stock_level<threshold:\n",
    "    print(\"Reorder Now\")\n",
    "else:\n",
    "    print(\"Stock is sufficient\")"
   ]
  },
  {
   "cell_type": "markdown",
   "id": "173d762d-9b08-4e86-b91b-f9cfe6c6e3ca",
   "metadata": {},
   "source": [
    "Task 6: Sales Report Formatting"
   ]
  },
  {
   "cell_type": "code",
   "execution_count": 5,
   "id": "99d6163d-f7b4-4467-b509-d40d3f0ca284",
   "metadata": {},
   "outputs": [
    {
     "name": "stdout",
     "output_type": "stream",
     "text": [
      "Using for loop:\n",
      "LAPTOP\n",
      "MOUSE\n",
      "KEYBOARD\n",
      "MONITOR\n",
      "PRINTER\n"
     ]
    }
   ],
   "source": [
    "products_sold = [\"laptop\", \"mouse\", \"keyboard\", \"monitor\", \"printer\"]\n",
    "\n",
    "# Using a for loop\n",
    "print(\"Product list in uppercase\")\n",
    "for product in products_sold:\n",
    "    print(product.upper())"
   ]
  },
  {
   "cell_type": "code",
   "execution_count": 7,
   "id": "60d2711b-c454-4fc5-921f-aef05be8f630",
   "metadata": {},
   "outputs": [
    {
     "name": "stdout",
     "output_type": "stream",
     "text": [
      "Product list in uppercase\n",
      "LAPTOP\n",
      "MOUSE\n",
      "KEYBOARD\n",
      "MONITOR\n",
      "PRINTER\n"
     ]
    }
   ],
   "source": [
    "products_sold = [\"laptop\", \"mouse\", \"keyboard\", \"monitor\", \"printer\"]\n",
    "\n",
    "# Using a while loop\n",
    "print(\"Product list in uppercase\")\n",
    "i = 0\n",
    "while i < len(products_sold):\n",
    "    print(products_sold[i].upper())\n",
    "    i += 1"
   ]
  },
  {
   "cell_type": "raw",
   "id": "25b2c43b-edf2-4975-97be-9201c9b84260",
   "metadata": {},
   "source": [
    "##Task 7: Area Calculation for Store Layout"
   ]
  },
  {
   "cell_type": "code",
   "execution_count": 9,
   "id": "49393379-4ca4-4e60-99bb-12dfa4d5a02a",
   "metadata": {},
   "outputs": [
    {
     "name": "stdout",
     "output_type": "stream",
     "text": [
      "The area of Section A is 300 square meters.\n"
     ]
    }
   ],
   "source": [
    "def calculate_area(length, width):\n",
    "    return length * width\n",
    "    \n",
    "def main():\n",
    "    sections = {\"Section A\": (20, 15)}\n",
    "    for name, (length, width) in sections.items():\n",
    "        print(f\"The area of {name} is {calculate_area(length, width)} square meters.\")\n",
    "if __name__ == \"__main__\":\n",
    "    main()"
   ]
  },
  {
   "cell_type": "raw",
   "id": "91a555f6-d59b-4063-a22a-4035c5178221",
   "metadata": {},
   "source": [
    "##Task 8: Customer Feedback Analysis"
   ]
  },
  {
   "cell_type": "code",
   "execution_count": 25,
   "id": "6b46f2c5-3815-4f6b-983e-ebf54ddd4370",
   "metadata": {},
   "outputs": [
    {
     "name": "stdin",
     "output_type": "stream",
     "text": [
      "Please enter your customer feedback:  The service was excellent and very quick! \n"
     ]
    },
    {
     "name": "stdout",
     "output_type": "stream",
     "text": [
      "Customer Feedback Analysis:\n",
      "Original Feedback: The service was excellent and very quick! \n",
      "Number of Vowels: 12\n",
      "Reversed Feedback:  !kciuq yrev dna tnellecxe saw ecivres ehT\n"
     ]
    }
   ],
   "source": [
    "feedback = input(\"Please enter your customer feedback: \")\n",
    "vowels = 'aeiouAEIOU'\n",
    "vowel_count = sum(1 for char in feedback if char in vowels)\n",
    "reversed_feedback = feedback[::-1]\n",
    "print(\"Customer Feedback Analysis:\")\n",
    "print(f\"Original Feedback: {feedback}\")\n",
    "print(f\"Number of Vowels: {vowel_count}\")\n",
    "print(f\"Reversed Feedback: {reversed_feedback}\")"
   ]
  },
  {
   "cell_type": "code",
   "execution_count": null,
   "id": "e55faa3c-90ea-4b4e-962d-1b21fcd313f1",
   "metadata": {},
   "outputs": [],
   "source": [
    "##Task 9: Price Filtering Tool"
   ]
  },
  {
   "cell_type": "code",
   "execution_count": 29,
   "id": "983988de-06ad-4f01-b179-3131535aa727",
   "metadata": {},
   "outputs": [
    {
     "name": "stdin",
     "output_type": "stream",
     "text": [
      "Enter the product prices (comma-separated):  150, 85, 300, 120, 45, 200\n",
      "Enter the discount threshold:  100\n"
     ]
    },
    {
     "name": "stdout",
     "output_type": "stream",
     "text": [
      "Products eligible for the discount campaign: [85, 45]\n"
     ]
    }
   ],
   "source": [
    "product_prices_input = input(\"Enter the product prices (comma-separated): \")\n",
    "product_prices = [int(price.strip()) for price in product_prices_input.split(',')]\n",
    "discount_threshold = int(input(\"Enter the discount threshold: \"))\n",
    "eligible_products = [price for price in product_prices if price < discount_threshold]\n",
    "print(f\"Products eligible for the discount campaign: {eligible_products}\")"
   ]
  },
  {
   "cell_type": "code",
   "execution_count": null,
   "id": "28a59e18-c09c-4d96-bed7-4766656817f5",
   "metadata": {},
   "outputs": [],
   "source": [
    "##Task 10: Sales Log File Management"
   ]
  },
  {
   "cell_type": "code",
   "execution_count": 33,
   "id": "e7d28f38-7a49-4904-89c6-33a18325f1cf",
   "metadata": {},
   "outputs": [
    {
     "name": "stdout",
     "output_type": "stream",
     "text": [
      "Content of sales_log.txt:\n",
      "Daily Sales Summary: \n",
      "Total sales for today: $5,000\n",
      "Number of transactions: 120\n",
      "\n"
     ]
    }
   ],
   "source": [
    "with open(\"sales_log.txt\", \"w\") as file:\n",
    "    file.write(\"Daily Sales Summary: \\n\")\n",
    "    file.write(\"Total sales for today: $5,000\\n\")\n",
    "    file.write(\"Number of transactions: 120\\n\")\n",
    "\n",
    "with open(\"sales_log.txt\", \"r\") as file:\n",
    "    content = file.read()\n",
    "    print(\"Content of sales_log.txt:\")\n",
    "    print(content)"
   ]
  },
  {
   "cell_type": "code",
   "execution_count": null,
   "id": "77a4079c-36e4-488a-bd35-d13fd0cc1a1c",
   "metadata": {},
   "outputs": [],
   "source": [
    "## Task 11: Daily Sales Average"
   ]
  },
  {
   "cell_type": "code",
   "execution_count": 35,
   "id": "c7454f87-b8a8-48ca-9e6a-966d9d69f800",
   "metadata": {},
   "outputs": [
    {
     "name": "stdin",
     "output_type": "stream",
     "text": [
      "Enter the sales figures for the last 7 days (comma-separated):  1200, 1500, 1100, 1800, 1700, 1600, 1400\n"
     ]
    },
    {
     "name": "stdout",
     "output_type": "stream",
     "text": [
      "Average daily sales for the past week: $1471.43\n"
     ]
    }
   ],
   "source": [
    "sales_input = input(\"Enter the sales figures for the last 7 days (comma-separated): \")\n",
    "sales_figures = [int(sale.strip()) for sale in sales_input.split(',')]\n",
    "average_sales = sum(sales_figures) / len(sales_figures)\n",
    "print(f\"Average daily sales for the past week: ${average_sales:.2f}\")"
   ]
  },
  {
   "cell_type": "code",
   "execution_count": null,
   "id": "51f9756c-6319-4da3-a337-a7863e76b9cc",
   "metadata": {},
   "outputs": [],
   "source": [
    "##Task 12: Customer Segmentation"
   ]
  },
  {
   "cell_type": "code",
   "execution_count": 65,
   "id": "707df447-d2d5-4019-a8e7-2c2df4b0c135",
   "metadata": {},
   "outputs": [
    {
     "name": "stdin",
     "output_type": "stream",
     "text": [
      "Enter the spending amounts of customers (comma-separated):  200, 800, 1500, 3000, 450, 1200\n"
     ]
    },
    {
     "name": "stdout",
     "output_type": "stream",
     "text": [
      "Customer Spending Categorization:\n",
      "Spending: $200, Category: Low\n",
      "Spending: $800, Category: Medium\n",
      "Spending: $1500, Category: High\n",
      "Spending: $3000, Category: High\n",
      "Spending: $450, Category: Low\n",
      "Spending: $1200, Category: Medium\n"
     ]
    }
   ],
   "source": [
    "spendings_input = input(\"Enter the spending amounts of customers (comma-separated): \")\n",
    "customer_spendings = [int(spending.strip()) for spending in spendings_input.split(',')]\n",
    "categorized_customers = []\n",
    "for spending in customer_spendings:\n",
    "    if spending < 500:\n",
    "        category = \"Low\"\n",
    "    elif spending < 1500:\n",
    "        category = \"Medium\"\n",
    "    else:\n",
    "        category = \"High\"\n",
    "    categorized_customers.append((spending, category))\n",
    "print(\"Customer Spending Categorization:\")\n",
    "for spending, category in categorized_customers:\n",
    "    print(f\"Spending: ${spending}, Category: {category}\")"
   ]
  },
  {
   "cell_type": "code",
   "execution_count": null,
   "id": "bcf433dd-439f-4a5b-acf9-8306ecbf2a13",
   "metadata": {},
   "outputs": [],
   "source": [
    "##Task 13: Discount Calculation"
   ]
  },
  {
   "cell_type": "code",
   "execution_count": 71,
   "id": "659f1d7b-5762-43a2-a1d2-05b3cedcf07f",
   "metadata": {},
   "outputs": [],
   "source": [
    "def calculate_discount(original_price, discount_percentage):\n",
    "    discount_amount = (discount_percentage / 100) * original_price\n",
    "    final_price = original_price - discount_amount\n",
    "    return final_price\n",
    "    num_products = int(input(\"Enter the number of products: \"))\n",
    "    for _ in range(num_products):        product_name = input(\"Enter the product name: \")\n",
    "        original_price = float(input(f\"Enter the original price of {product_name}: $\"))\n",
    "        discount_percentage = float(input(f\"Enter the discount percentage for {product_name}: \"))\n",
    "        final_price = calculate_discount(original_price, discount_percentage)\n",
    "        print(f\"Product: {product_name}, Original Price: ${original_price}, Discount: {discount_percentage}%, Final Price: ${final_price:.2f}\\n\")\n"
   ]
  },
  {
   "cell_type": "code",
   "execution_count": null,
   "id": "e02ac230-9bb1-43f3-9405-65e2718b1a50",
   "metadata": {},
   "outputs": [],
   "source": [
    "##Task 14: Customer Feedback Sentiment Analysis (Taken refernce from external content)"
   ]
  },
  {
   "cell_type": "code",
   "execution_count": null,
   "id": "7c33a35e-1f99-4b48-b0dc-960ba2cb0b8c",
   "metadata": {},
   "outputs": [],
   "source": [
    "# Function to perform sentiment analysis\n",
    "def sentiment_analysis(feedback):\n",
    "    # Define lists of positive and negative words\n",
    "    positive_words = [\"good\", \"happy\", \"excellent\", \"amazing\", \"great\", \"satisfied\"]\n",
    "    negative_words = [\"bad\", \"disappointed\", \"poor\", \"terrible\", \"awful\", \"unsatisfied\"]\n",
    "    \n",
    "    # Convert the feedback to lowercase for case-insensitive comparison\n",
    "    feedback_lower = feedback.lower()\n",
    "\n",
    "    # Check if any positive or negative word is present in the feedback\n",
    "    if any(word in feedback_lower for word in positive_words):\n",
    "        return \"Positive\"\n",
    "    elif any(word in feedback_lower for word in negative_words):\n",
    "        return \"Negative\"\n",
    "    else:\n",
    "        return \"Neutral\"\n",
    "\n",
    "# Take input for customer feedback\n",
    "feedback = input(\"Enter customer feedback: \")\n",
    "\n",
    "# Perform sentiment analysis\n",
    "result = sentiment_analysis(feedback)\n",
    "\n",
    "# Print the result\n",
    "print(f\"Sentiment: {result}\")\n"
   ]
  }
 ],
 "metadata": {
  "kernelspec": {
   "display_name": "Python [conda env:base] *",
   "language": "python",
   "name": "conda-base-py"
  },
  "language_info": {
   "codemirror_mode": {
    "name": "ipython",
    "version": 3
   },
   "file_extension": ".py",
   "mimetype": "text/x-python",
   "name": "python",
   "nbconvert_exporter": "python",
   "pygments_lexer": "ipython3",
   "version": "3.12.7"
  }
 },
 "nbformat": 4,
 "nbformat_minor": 5
}
